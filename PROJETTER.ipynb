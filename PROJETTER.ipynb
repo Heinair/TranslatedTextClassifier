{
  "cells": [
    {
      "cell_type": "markdown",
      "metadata": {},
      "source": [
        "PROJET TER - CLASSIFICATION DE TEXTES TRADUITS - APPROCHE NAÏVE ET VECTORIELLE"
      ]
    },
    {
      "cell_type": "code",
      "execution_count": 1,
      "metadata": {
        "id": "yT3tJ6xaq2KS"
      },
      "outputs": [],
      "source": [
        "#Imports nécessaire\n",
        "import numpy as np\n",
        "from sklearn import *\n",
        "from sklearn.neighbors import KNeighborsClassifier\n",
        "from sklearn.svm import LinearSVC\n",
        "from sklearn.model_selection import *\n",
        "from sklearn.pipeline import *\n",
        "from sklearn.preprocessing import *\n",
        "import matplotlib.pyplot as plt\n",
        "import time as time\n",
        "import pandas as pd\n",
        "from sklearn.svm import *\n",
        "from sklearn.ensemble import RandomForestClassifier\n",
        "from sklearn.datasets import make_hastie_10_2\n",
        "from sklearn.ensemble import *\n",
        "from sklearn.feature_selection import SelectKBest, chi2,f_classif\n",
        "from sklearn.feature_extraction.text import *\n",
        "from sklearn.feature_extraction.text import CountVectorizer\n",
        "\n",
        "\n",
        "from sklearn.neural_network import MLPClassifier\n",
        "from sklearn.naive_bayes import *\n",
        "from sklearn.linear_model import SGDClassifier\n",
        "from sklearn.metrics import *\n",
        "from scipy.stats import *\n",
        "#from imblearn.over_sampling import RandomOverSampler, SMOTE\n",
        "#from imblearn.under_sampling import RandomUnderSampler, NearMiss\n",
        "import re"
      ]
    },
    {
      "cell_type": "code",
      "execution_count": 2,
      "metadata": {
        "id": "N3YBq6plq2KV"
      },
      "outputs": [
        {
          "name": "stdout",
          "output_type": "stream",
          "text": [
            " le tiotuti fichier  1702  fichiers\n",
            "le problz est :  La Chambre des officiers - Dugain, Marc\n",
            " le corpus fait  1701  textes\n"
          ]
        }
      ],
      "source": [
        "#Recuperation des données textuelles à partir des dossiers contenant les livres sous format .txt\n",
        "corpus=[]\n",
        "\n",
        "path =r'./txtT'\n",
        "liste_fichiers = []\n",
        "\n",
        "for root, dirs, files in os.walk(path):\n",
        "\tfor file in files:\n",
        "\t\tliste_fichiers.append(os.path.join(root,file).replace('\\\\','/'))\n",
        "\n",
        "path =r'./txtO'\n",
        "n_traduit=  len(liste_fichiers)\n",
        "\n",
        "for root, dirs, files in os.walk(path):\n",
        "\tfor file in files:\n",
        "\t\tliste_fichiers.append(os.path.join(root,file).replace('\\\\','/'))\n",
        "\n",
        "print(\"Les dossiers contiennent \" , len(liste_fichiers), \" fichiers\")\n",
        "\n",
        "for fichier in liste_fichiers:\n",
        "    #book = open_book(fichier)\n",
        "    #lines = convert_epub_to_lines(book)\n",
        "    #suppressionCode = re.compile(r'<.*?>')\n",
        "    with open(fichier, 'r',encoding='utf-8') as nom_fich:\n",
        "        try:\n",
        "            texte_nettoye =  \"\".join(nom_fich.readlines()).replace(\"*\",\"\").replace(\"\\n\",\" \").replace(\"—\",\" \").lower()\n",
        "            corpus.append((fichier.split(\"/\")[-1][:-4], texte_nettoye))\n",
        "        except:\n",
        "            print(\"Ce texte ne peut pas etre utilise : \", fichier.split(\"/\")[-1][:-4])\n",
        "    if fichier == liste_fichiers[n_traduit]:\n",
        "        n_traduit = len(corpus)-1\n",
        "\n",
        "\n",
        "print(\"Le corpus est composé de \" , len(corpus), \" textes\")"
      ]
    },
    {
      "cell_type": "markdown",
      "metadata": {},
      "source": [
        "Approche \"naïve\" "
      ]
    },
    {
      "cell_type": "code",
      "execution_count": 3,
      "metadata": {},
      "outputs": [],
      "source": [
        "#Extraction de caractéristique \"naïve\" du texte - maintenant mesure relative et non absolue\n",
        "\n",
        "def delimitation_mot(texte):\n",
        "    return re.split(\"[’ \\-']\", texte.replace('\\n',' ').replace('.', ' '))\n",
        "\n",
        "def delimitation_phrase(texte):\n",
        "    return re.split(\"\\.\", texte.replace(\"\\n\", ' '))\n",
        "\n",
        "# Transforme le texte en dictionnaire où chaque mot unique est associé à son nombre d'apparitions \n",
        "def text_to_freq(mots_texte):\n",
        "    dico = {}\n",
        "    dico[\"max\"] = 1\n",
        "    liste_mots = delimitation_mot(mots_texte)\n",
        "    for mot in liste_mots:\n",
        "        if mot in dico.keys():\n",
        "            dico[mot]+=1\n",
        "            if(dico[mot]>dico[\"max\"]):\n",
        "                dico[\"max\"]=dico[mot]\n",
        "        else:\n",
        "            dico[mot]=1\n",
        "    return (dico, len(liste_mots), liste_mots)\n",
        "\n",
        "def nombre_mots(dicoTexte, taille):\n",
        "    return len(dicoTexte.keys())/taille\n",
        "\n",
        "def nombre_mots_rare(dicoTexte,taille):\n",
        "    c=0\n",
        "    for k in dicoTexte.keys():\n",
        "        if dicoTexte[k]<5:\n",
        "            c+=1\n",
        "    return c/taille\n",
        "\n",
        "def nombre_mots_frequent(dicoTexte,taille):\n",
        "    c=0\n",
        "    for k in dicoTexte.keys():\n",
        "        if dicoTexte[k] >250:\n",
        "            c+=1\n",
        "    return c/taille\n",
        "\n",
        "\n",
        "tt = text_to_freq(corpus[0][0])\n",
        "\n",
        "l=[]\n",
        "for texte in corpus:\n",
        "    dico, taille, listeMots = text_to_freq(texte[1])\n",
        "    l.append( (nombre_mots(dico, taille), nombre_mots_frequent(dico,taille), nombre_mots_rare(dico,taille), dico[\"max\"]/taille , len(dico.keys())/len(listeMots) ))\n"
      ]
    },
    {
      "cell_type": "code",
      "execution_count": 29,
      "metadata": {},
      "outputs": [
        {
          "data": {
            "text/plain": [
              "<seaborn.axisgrid.FacetGrid at 0x1ef8ba81ac0>"
            ]
          },
          "execution_count": 29,
          "metadata": {},
          "output_type": "execute_result"
        },
        {
          "data": {
            "image/png": "[encoded data removed]",
            "text/plain": [
              "<Figure size 402.375x360 with 1 Axes>"
            ]
          },
          "metadata": {
            "needs_background": "light"
          },
          "output_type": "display_data"
        }
      ],
      "source": [
        "import seaborn as sns\n",
        "\n",
        "data = np.array(l)\n",
        "data_labels = [1]*n_traduit + [0]*(len(corpus)-n_traduit)\n",
        "sns.displot(x=data[:,4], y=data[:,1], hue=data_labels)"
      ]
    },
    {
      "cell_type": "code",
      "execution_count": 36,
      "metadata": {},
      "outputs": [
        {
          "name": "stdout",
          "output_type": "stream",
          "text": [
            "0.7360703812316716\n",
            "[[149  31]\n",
            " [ 59 102]]\n",
            "              precision    recall  f1-score   support\n",
            "\n",
            "           0       0.72      0.83      0.77       180\n",
            "           1       0.77      0.63      0.69       161\n",
            "\n",
            "    accuracy                           0.74       341\n",
            "   macro avg       0.74      0.73      0.73       341\n",
            "weighted avg       0.74      0.74      0.73       341\n",
            "\n"
          ]
        }
      ],
      "source": [
        "#Modèle naïf : SVM avec les paramètres par défaut \n",
        "\n",
        "X_train, X_test, y_train, y_test = train_test_split(data, data_labels,test_size=0.2)\n",
        "\n",
        "grid_naif = GridSearchCV(SVC(), {})\n",
        "\n",
        "grid_naif.fit(X_train, y_train)\n",
        "ypred = grid_naif.best_estimator_.predict(X_test)\n",
        "\n",
        "print(grid_naif.best_estimator_.score(X_test,y_test))\n",
        "print(confusion_matrix(y_test, ypred))\n",
        "print(classification_report(y_test, ypred))\n",
        "\n",
        "modele_utilisable_naif = grid_naif.best_estimator_"
      ]
    },
    {
      "cell_type": "markdown",
      "metadata": {},
      "source": [
        "Approche vectorielle"
      ]
    },
    {
      "cell_type": "code",
      "execution_count": 8,
      "metadata": {},
      "outputs": [],
      "source": [
        "#Recuperation du texte pour chaque livre et separation entre traduit et natif\n",
        "\n",
        "livreTrad = [livre[1] for livre in corpus[:n_traduit]]\n",
        "livreOrig = [livre[1] for livre in corpus[n_traduit:]]"
      ]
    },
    {
      "cell_type": "code",
      "execution_count": 9,
      "metadata": {},
      "outputs": [
        {
          "name": "stdout",
          "output_type": "stream",
          "text": [
            "461575993\n",
            "(1847,)\n"
          ]
        }
      ],
      "source": [
        "# Découpage du corpus en morceaux de taille arbitraires par catégorie\n",
        "livreOriginal = \" \".join(livreOrig)\n",
        "corpusOrig = np.array([])\n",
        "taille = len(livreOriginal)\n",
        "pas = 250000\n",
        "n=0\n",
        "print(taille)\n",
        "while(n<taille):\n",
        "    corpusOrig = np.append(corpusOrig, livreOriginal[n:n+pas])\n",
        "    n+=pas\n",
        "print(corpusOrig.shape)"
      ]
    },
    {
      "cell_type": "code",
      "execution_count": 10,
      "metadata": {},
      "outputs": [
        {
          "name": "stdout",
          "output_type": "stream",
          "text": [
            "501408637\n",
            "(2006,)\n"
          ]
        }
      ],
      "source": [
        "livreTraduit = \" \".join(livreTrad)\n",
        "corpusTrad = np.array([])\n",
        "taille = len(livreTraduit)\n",
        "n=0\n",
        "print(taille)\n",
        "while(n<taille):\n",
        "    corpusTrad = np.append(corpusTrad, livreTraduit[n:n+pas])\n",
        "    n+=pas\n",
        "print(corpusTrad.shape)"
      ]
    },
    {
      "cell_type": "code",
      "execution_count": 11,
      "metadata": {},
      "outputs": [],
      "source": [
        "#Mise en forme des données et des labels pour l'apprentissage machine\n",
        "features= np.concatenate((corpusTrad, corpusOrig), axis=0)\n",
        "labels = [1]*corpusTrad.shape[0] + [0]*corpusOrig.shape[0]"
      ]
    },
    {
      "cell_type": "code",
      "execution_count": 24,
      "metadata": {},
      "outputs": [
        {
          "name": "stdout",
          "output_type": "stream",
          "text": [
            "0.980544747081712\n",
            "[[380  11]\n",
            " [  4 376]]\n",
            "              precision    recall  f1-score   support\n",
            "\n",
            "           0       0.99      0.97      0.98       391\n",
            "           1       0.97      0.99      0.98       380\n",
            "\n",
            "    accuracy                           0.98       771\n",
            "   macro avg       0.98      0.98      0.98       771\n",
            "weighted avg       0.98      0.98      0.98       771\n",
            "\n"
          ]
        }
      ],
      "source": [
        "#Modèle fonctionnel : CountVectorizer suivi de MultinomialNB avec les paramètres par défaut \n",
        "X_train, X_test, y_train, y_test = train_test_split(features, labels,test_size=0.2)\n",
        "\n",
        "modele = make_pipeline(CountVectorizer(), MultinomialNB())\n",
        "grid = GridSearchCV(modele, {})\n",
        "\n",
        "grid.fit(X_train, y_train)\n",
        "ypred = grid.best_estimator_.predict(X_test)\n",
        "\n",
        "print(grid.best_estimator_.score(X_test,y_test))\n",
        "print(confusion_matrix(y_test, ypred))\n",
        "print(classification_report(y_test, ypred))\n",
        "\n",
        "modele_utilisable = grid.best_estimator_"
      ]
    },
    {
      "cell_type": "code",
      "execution_count": 27,
      "metadata": {},
      "outputs": [
        {
          "name": "stdout",
          "output_type": "stream",
          "text": [
            "0.5801217038539553\n",
            "[[  0 207]\n",
            " [  0 286]]\n",
            "              precision    recall  f1-score   support\n",
            "\n",
            "           0       0.00      0.00      0.00       207\n",
            "           1       0.58      1.00      0.73       286\n",
            "\n",
            "    accuracy                           0.58       493\n",
            "   macro avg       0.29      0.50      0.37       493\n",
            "weighted avg       0.34      0.58      0.43       493\n",
            "\n"
          ]
        },
        {
          "name": "stderr",
          "output_type": "stream",
          "text": [
            "C:\\Users\\okada\\anaconda3\\lib\\site-packages\\sklearn\\metrics\\_classification.py:1221: UndefinedMetricWarning: Precision and F-score are ill-defined and being set to 0.0 in labels with no predicted samples. Use `zero_division` parameter to control this behavior.\n",
            "  _warn_prf(average, modifier, msg_start, len(result))\n"
          ]
        },
        {
          "data": {
            "text/plain": [
              "Pipeline(steps=[('tfidfvectorizer', TfidfVectorizer()),\n",
              "                ('multinomialnb', MultinomialNB())])"
            ]
          },
          "execution_count": 27,
          "metadata": {},
          "output_type": "execute_result"
        }
      ],
      "source": [
        "#Essai de Tfidf\n",
        "from sklearn.feature_extraction.text import CountVectorizer\n",
        "\n",
        "X_train, X_test, y_train, y_test = train_test_split(features, labels,test_size=0.35)\n",
        "\n",
        "modele = make_pipeline(TfidfVectorizer(), MultinomialNB())\n",
        "grid = GridSearchCV(modele, {})\n",
        "\n",
        "grid.fit(X_train, y_train)\n",
        "ypred = grid.best_estimator_.predict(X_test)\n",
        "\n",
        "print(grid.best_estimator_.score(X_test,y_test))\n",
        "print(confusion_matrix(y_test, ypred))\n",
        "print(classification_report(y_test, ypred))\n",
        "modele"
      ]
    },
    {
      "cell_type": "markdown",
      "metadata": {},
      "source": [
        "Prediction sur des livres sans labels "
      ]
    },
    {
      "cell_type": "code",
      "execution_count": 20,
      "metadata": {},
      "outputs": [
        {
          "name": "stdout",
          "output_type": "stream",
          "text": [
            "Les dossiers de test contiennent  7  fichiers\n",
            "Le corpus de test est composé de  7  textes\n"
          ]
        }
      ],
      "source": [
        "#Evaluation d'oeuvre sans labels\n",
        "\n",
        "dossier_test = r'./echantillon'\n",
        "\n",
        "#Recuperation des données textuelles à partir de l'emplacement indiqué contenant les livres à tester sous format .txt\n",
        "corpusEssai=[]\n",
        "\n",
        "pathEssai =dossier_test\n",
        "liste_fichiers_essai = []\n",
        "\n",
        "for root, dirs, files in os.walk(pathEssai):\n",
        "\tfor file in files:\n",
        "\t\tliste_fichiers_essai.append(os.path.join(root,file).replace('\\\\','/'))\n",
        "\n",
        "print(\"Les dossiers de test contiennent \" , len(liste_fichiers_essai), \" fichiers\")\n",
        "\n",
        "for fichier in liste_fichiers_essai:\n",
        "    with open(fichier, 'r',encoding='utf-8') as nom_fich:\n",
        "        try:\n",
        "            texte_nettoye =  \"\".join(nom_fich.readlines()).replace(\"*\",\"\").replace(\"\\n\",\" \").replace(\"—\",\" \").lower()\n",
        "            corpusEssai.append((fichier.split(\"/\")[-1][:-4], texte_nettoye))\n",
        "        except:\n",
        "            print(\"texte problematique : \", fichier.split(\"/\")[-1][:-4])\n",
        "    \n",
        "\n",
        "print(\"Le corpus de test est composé de \" , len(corpusEssai), \" textes\")"
      ]
    },
    {
      "cell_type": "code",
      "execution_count": 25,
      "metadata": {},
      "outputs": [],
      "source": [
        "#Evaluation d'un livre en le decoupant en morceaux de taille arbtraire\n",
        "def evaluation_livre(livre, modele_test):\n",
        "    print(\"Evaluation livre : \", livre[0])\n",
        "    texte = livre[1]\n",
        "    featuresTexte = np.array([])\n",
        "    pas=100000\n",
        "    n=0\n",
        "    while(n<len(texte)):\n",
        "        featuresTexte = np.append(featuresTexte, texte[n:n+pas])\n",
        "        n+=pas\n",
        "\n",
        "    \n",
        "    vectorized_features  = modele_test[0].transform(featuresTexte)\n",
        "    predictions = modele_test[1].predict(vectorized_features)\n",
        "    print(\"Prediction des sous parties : \", predictions)\n",
        "\n",
        "    resultat = int(round(predictions.mean()))\n",
        "\n",
        "    if resultat==1:\n",
        "        print(f\"Le texte : {livre[0]} a ete estime traduit\")\n",
        "    elif resultat==0:\n",
        "        print(f\"Le texte : {livre[0]} a ete estime original\")\n",
        "    else:\n",
        "        print(\"Erreur de calcul\")\n",
        "\n",
        "    return resultat"
      ]
    },
    {
      "cell_type": "code",
      "execution_count": 26,
      "metadata": {},
      "outputs": [
        {
          "name": "stdout",
          "output_type": "stream",
          "text": [
            "Evaluation livre :  1 - Inconnu(e)\n",
            "Prediction des sous parties :  [0 0 0 0]\n",
            "Le texte : 1 - Inconnu(e) a ete estime original\n",
            "Evaluation livre :  2 - Inconnu(e)\n",
            "Prediction des sous parties :  [0 0]\n",
            "Le texte : 2 - Inconnu(e) a ete estime original\n",
            "Evaluation livre :  3 - Inconnu(e)\n",
            "Prediction des sous parties :  [0 0]\n",
            "Le texte : 3 - Inconnu(e) a ete estime original\n",
            "Evaluation livre :  4 - Inconnu(e)\n",
            "Prediction des sous parties :  [0 0]\n",
            "Le texte : 4 - Inconnu(e) a ete estime original\n",
            "Evaluation livre :  5 - Inconnu(e)\n",
            "Prediction des sous parties :  [0]\n",
            "Le texte : 5 - Inconnu(e) a ete estime original\n",
            "Evaluation livre :  6 - Inconnu(e)\n",
            "Prediction des sous parties :  [0 0 0 0]\n",
            "Le texte : 6 - Inconnu(e) a ete estime original\n",
            "Evaluation livre :  7 - Inconnu(e)\n",
            "Prediction des sous parties :  [1 1 1 1 1 1]\n",
            "Le texte : 7 - Inconnu(e) a ete estime traduit\n"
          ]
        }
      ],
      "source": [
        "for livre in corpusEssai:\n",
        "    evaluation_livre(livre, modele_utilisable)"
      ]
    }
  ],
  "metadata": {
    "colab": {
      "collapsed_sections": [],
      "name": "PIPELINE.ipynb",
      "provenance": []
    },
    "interpreter": {
      "hash": "6e21bb7caf8c7b2c0c7cc561648a691d171632da0970b236779a2d8ab0d97eda"
    },
    "kernelspec": {
      "display_name": "Python 3.8.5",
      "language": "python",
      "name": "python3"
    },
    "language_info": {
      "codemirror_mode": {
        "name": "ipython",
        "version": 3
      },
      "file_extension": ".py",
      "mimetype": "text/x-python",
      "name": "python",
      "nbconvert_exporter": "python",
      "pygments_lexer": "ipython3",
      "version": "3.8.5"
    },
    "orig_nbformat": 4
  },
  "nbformat": 4,
  "nbformat_minor": 0
}
